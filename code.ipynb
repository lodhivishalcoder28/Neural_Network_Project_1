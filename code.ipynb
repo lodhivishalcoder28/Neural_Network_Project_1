{
 "cells": [
  {
   "cell_type": "code",
   "execution_count": 16,
   "id": "6712a33d",
   "metadata": {},
   "outputs": [],
   "source": [
    "\n",
    "import numpy as np\n",
    "\n",
    "import matplotlib.pyplot as plt\n",
    "import random"
   ]
  },
  {
   "cell_type": "code",
   "execution_count": 13,
   "id": "8b8a2f52",
   "metadata": {},
   "outputs": [],
   "source": [
    "X_train=np.loadtxt('train_X.csv',delimiter=',').T\n",
    "Y_train=np.loadtxt('train_label.csv',delimiter=',').T\n",
    "\n",
    "X_test=np.loadtxt('test_X.csv',delimiter=',').T\n",
    "Y_test=np.loadtxt('test_label.csv',delimiter=',').T"
   ]
  },
  {
   "cell_type": "code",
   "execution_count": 14,
   "id": "547c37b3",
   "metadata": {},
   "outputs": [
    {
     "name": "stdout",
     "output_type": "stream",
     "text": [
      "shape of X-train (784, 1000)\n",
      "shape of Y-train (10, 1000)\n",
      "shape of X-test (784, 350)\n",
      "shape of X-test (10, 350)\n"
     ]
    }
   ],
   "source": [
    "print('shape of X-train',X_train.shape)\n",
    "print('shape of Y-train',Y_train.shape)\n",
    "print('shape of X-test',X_test.shape)\n",
    "print('shape of X-test',Y_test.shape)"
   ]
  },
  {
   "cell_type": "markdown",
   "id": "23139e6b",
   "metadata": {},
   "source": [
    "## Getting random image"
   ]
  },
  {
   "cell_type": "code",
   "execution_count": null,
   "id": "9f4268a5",
   "metadata": {},
   "outputs": [
    {
     "data": {
      "image/png": "[encoded data removed]",
      "text/plain": [
       "<Figure size 640x480 with 1 Axes>"
      ]
     },
     "metadata": {},
     "output_type": "display_data"
    }
   ],
   "source": [
    "index=random.randrange(0,X_train.shape[1]) #chosing the random image\n",
    "plt.imshow(X_train[:,index].reshape(28,28)) #extracting, reshaping and display the image\n",
    "plt.show()\n"
   ]
  },
  {
   "cell_type": "markdown",
   "id": "aaa76d48",
   "metadata": {},
   "source": [
    "## Creating Functions\n"
   ]
  },
  {
   "cell_type": "code",
   "execution_count": 81,
   "id": "baf05ee9",
   "metadata": {},
   "outputs": [],
   "source": [
    "def tanh(x):\n",
    "    return np.tanh(x)\n",
    "def relu(x):\n",
    "    return np.maximum(x,0)\n",
    "def softmax(x):\n",
    "    x_shifted = x - np.max(x, axis=0, keepdims=True)  # Prevents overflow\n",
    "    expX = np.exp(x_shifted)\n",
    "    return expX / np.sum(expX, axis=0, keepdims=True)\n"
   ]
  },
  {
   "cell_type": "code",
   "execution_count": 77,
   "id": "b52d26fc",
   "metadata": {},
   "outputs": [],
   "source": [
    "def derivative_tanh(x):\n",
    "    return (1-np.power(np.tanh(x),2))\n",
    "\n",
    "def derivative_relu(x):\n",
    "    return np.array(x>0,dtype=np.float32)\n",
    "\n"
   ]
  },
  {
   "cell_type": "markdown",
   "id": "87d39101",
   "metadata": {},
   "source": [
    "## Initialize Parameters"
   ]
  },
  {
   "cell_type": "code",
   "execution_count": 48,
   "id": "4579e1a2",
   "metadata": {},
   "outputs": [],
   "source": [
    "def initialize_parameters(n_x,n_h,n_y):\n",
    "    w1=np.random.randn(n_h,n_x)*0.01\n",
    "    b1=np.zeros((n_h,1)) \n",
    "\n",
    "    w2=np.random.randn(n_y,n_h)*0.01\n",
    "    b2=np.zeros((n_y,1)) \n",
    "    \n",
    "\n",
    "    parameters={\n",
    "        \"w1\":w1,\n",
    "        \"b1\":b1,\n",
    "        \"w2\":w2,\n",
    "        \"b2\":b2\n",
    "    } \n",
    "    return parameters\n",
    "     #n_x no. of neurons in input layer, n_h no. of neurons in hidden layers, n_x no. of neurons in output layer\n"
   ]
  },
  {
   "cell_type": "markdown",
   "id": "a9646134",
   "metadata": {},
   "source": [
    "## forward propagation"
   ]
  },
  {
   "cell_type": "code",
   "execution_count": 104,
   "id": "64826881",
   "metadata": {},
   "outputs": [],
   "source": [
    "def forward_propagation(x,parameters):\n",
    "    w1=parameters['w1']\n",
    "    b1=parameters['b1']\n",
    "    w2=parameters['w2']\n",
    "    b2=parameters['b2']\n",
    "\n",
    "    z1=np.dot(w1,x)+b1\n",
    "    a1=tanh(z1)\n",
    "\n",
    "    z2=np.dot(w2,a1)+b2\n",
    "    a2=softmax(z2)\n",
    "\n",
    "    forward_cache={\n",
    "        \"z1\":z1,\n",
    "        \"a1\":a1,\n",
    "        \"z2\":z2,\n",
    "        \"a2\":a2\n",
    "    } \n",
    "    \n",
    "    return forward_cache"
   ]
  },
  {
   "cell_type": "markdown",
   "id": "1e1b7609",
   "metadata": {},
   "source": [
    "## cost Function"
   ]
  },
  {
   "cell_type": "code",
   "execution_count": 105,
   "id": "60283b74",
   "metadata": {},
   "outputs": [],
   "source": [
    "def cost_function(a2, y):\n",
    "    m = y.shape[1]\n",
    "    epsilon = 1e-8  # very small number\n",
    "    a2_clipped = np.clip(a2, epsilon, 1 - epsilon)  # keep values in (1e-8, 1 - 1e-8)\n",
    "    cost = -(1/m) * np.sum(y * np.log(a2_clipped))\n",
    "    return cost\n"
   ]
  },
  {
   "cell_type": "markdown",
   "id": "9b82bf79",
   "metadata": {},
   "source": [
    "## BackPropagation"
   ]
  },
  {
   "cell_type": "code",
   "execution_count": 106,
   "id": "d29b6ca2",
   "metadata": {},
   "outputs": [],
   "source": [
    "def backward_prop(x,y,parameters,forward_cache):\n",
    "    w1=parameters[\"w1\"]\n",
    "    b1=parameters[\"b1\"]\n",
    "    w2=parameters[\"w2\"]\n",
    "    b2=parameters[\"b2\"]\n",
    "\n",
    "    a1=forward_cache['a1']\n",
    "    a2=forward_cache['a2']\n",
    "\n",
    "    m=x.shape[1]\n",
    "\n",
    "    dz2=(a2-y)\n",
    "    dw2=(1/m)*np.dot(dz2,a1.T)\n",
    "    db2=(1/m)*np.sum(dz2,axis=1,keepdims=True)\n",
    "\n",
    "    dz1=(1/m)*np.dot(w2.T,dz2)*derivative_tanh(a1)\n",
    "    dw1=(1/m)*np.dot(dz1,x.T)\n",
    "    db1=(1/m)*np.sum(dz1,axis=1,keepdims=True)\n",
    "\n",
    "    gradients={\n",
    "        'dw1':dw1,\n",
    "        'db1':db1,\n",
    "        \"dw2\":dw2,\n",
    "        \"db2\":db2,\n",
    "\n",
    "\n",
    "    }\n",
    "\n",
    "    return gradients\n",
    "\n"
   ]
  },
  {
   "cell_type": "markdown",
   "id": "1c5214bd",
   "metadata": {},
   "source": [
    "## Update Parameters"
   ]
  },
  {
   "cell_type": "code",
   "execution_count": 107,
   "id": "27ca6abe",
   "metadata": {},
   "outputs": [],
   "source": [
    "def update_parameters(parameters,gradients,learning_rate):\n",
    "    w1=parameters['w1']\n",
    "    b1=parameters['b1']\n",
    "    w2=parameters['w2']\n",
    "    b2=parameters['b2']\n",
    "\n",
    "    dw1=gradients['dw1']\n",
    "    db1=gradients['db1']\n",
    "    dw2=gradients['dw2']\n",
    "    db2=gradients['db2']\n",
    "\n",
    "    w1=w1-learning_rate*dw1\n",
    "    b1=b1-learning_rate*db1\n",
    "    w2=w2-learning_rate*dw2\n",
    "    b2=b2-learning_rate*db2\n",
    "\n",
    "    parameters={\n",
    "'w1':w1,\n",
    "\"b1\":b1,\n",
    "\"w2\":w2,\n",
    "\"b2\":b2\n",
    "    }\n",
    "\n",
    "    return parameters"
   ]
  },
  {
   "cell_type": "code",
   "execution_count": 108,
   "id": "2c7f21a0",
   "metadata": {},
   "outputs": [],
   "source": [
    "def model(x,y,n_h,learning_rate,iterations):\n",
    "    n_x=x.shape[0]\n",
    "    n_y=y.shape[0]\n",
    "    cost_list=[]\n",
    "\n",
    "    parameters=initialize_parameters(n_x,n_h,n_y)\n",
    "    for i in range(iterations):\n",
    "        forward_cache=forward_propagation(x,parameters)\n",
    "\n",
    "        cost =cost_function(forward_cache[\"a2\"],y)\n",
    "        gradients=backward_prop(x,y,parameters,forward_cache)\n",
    "        parameters=update_parameters(parameters,gradients,learning_rate)\n",
    "        cost_list.append(cost)\n",
    "        if(i%(iterations/10)==0):\n",
    "            print('cost after ',i,\"iterations is:\",cost)\n",
    "\n",
    "\n",
    "    return parameters,cost_list\n"
   ]
  },
  {
   "cell_type": "code",
   "execution_count": 113,
   "id": "a2a216ac",
   "metadata": {},
   "outputs": [
    {
     "name": "stdout",
     "output_type": "stream",
     "text": [
      "cost after  0 iterations is: 2.3778153361068544\n",
      "cost after  100 iterations is: 1.1975419441114858\n",
      "cost after  200 iterations is: 0.8320087308094093\n",
      "cost after  300 iterations is: 0.6608950554509941\n",
      "cost after  400 iterations is: 0.5589691273480428\n",
      "cost after  500 iterations is: 0.4894754694695424\n",
      "cost after  600 iterations is: 0.4380006141328485\n",
      "cost after  700 iterations is: 0.39771272495114196\n",
      "cost after  800 iterations is: 0.3649338529105131\n",
      "cost after  900 iterations is: 0.33749546524254653\n"
     ]
    }
   ],
   "source": [
    "iterations=1000\n",
    "n_h=1000\n",
    "learning_rate=0.002\n",
    "Parameters, Cost_list = model(X_train, Y_train, n_h = n_h, learning_rate = learning_rate, iterations = iterations)"
   ]
  },
  {
   "cell_type": "code",
   "execution_count": 114,
   "id": "fdf3628d",
   "metadata": {},
   "outputs": [
    {
     "data": {
      "image/png": "[encoded data removed]",
      "text/plain": [
       "<Figure size 640x480 with 1 Axes>"
      ]
     },
     "metadata": {},
     "output_type": "display_data"
    }
   ],
   "source": [
    "t=np.arange(0,iterations)\n",
    "plt.plot(t,Cost_list)\n",
    "plt.show()"
   ]
  },
  {
   "cell_type": "code",
   "execution_count": 115,
   "id": "198a59f3",
   "metadata": {},
   "outputs": [],
   "source": [
    "def accuracy(inp,labels,parameters):\n",
    "    forward_cache = forward_propagation(inp,parameters)\n",
    "    a_out=forward_cache['a2']\n",
    "    a_out=np.argmax(a_out,0)\n",
    "\n",
    "    labels=np.argmax(labels,0)\n",
    "\n",
    "    \n",
    "\n",
    "    acc=np.mean(a_out==labels)*100\n",
    "    return acc\n",
    "    \n",
    "\n",
    "\n"
   ]
  },
  {
   "cell_type": "code",
   "execution_count": 116,
   "id": "382cd019",
   "metadata": {},
   "outputs": [
    {
     "name": "stdout",
     "output_type": "stream",
     "text": [
      "Accuracy of Train Dataset is 94.89999999999999 %\n",
      "Accuracy of Test Dataset is 84.29 %\n"
     ]
    }
   ],
   "source": [
    "print(\"Accuracy of Train Dataset is\",accuracy(X_train,Y_train,Parameters),\"%\")\n",
    "print(\"Accuracy of Test Dataset is\",round(accuracy(X_test,Y_test,Parameters),2),\"%\")"
   ]
  },
  {
   "cell_type": "code",
   "execution_count": 138,
   "id": "bb5d6286",
   "metadata": {},
   "outputs": [
    {
     "data": {
      "image/png": "[encoded data removed]",
      "text/plain": [
       "<Figure size 640x480 with 1 Axes>"
      ]
     },
     "metadata": {},
     "output_type": "display_data"
    },
    {
     "name": "stdout",
     "output_type": "stream",
     "text": [
      "our model says it is  0\n"
     ]
    }
   ],
   "source": [
    "idx=int(random.randrange(0,X_test.shape[1]) )#chosing the random image\n",
    "plt.imshow(X_test[:,idx].reshape((28,28)),cmap='gray') #extracting, reshaping and display the image\n",
    "plt.show()\n",
    "\n",
    "cache = forward_propagation(X_test[:, idx].reshape(X_test[:, idx].shape[0], 1), Parameters)\n",
    "a_pred = cache['a2']  \n",
    "a_pred = np.argmax(a_pred, 0)\n",
    "\n",
    "print(\"our model says it is \",a_pred[0])\n"
   ]
  },
  {
   "cell_type": "code",
   "execution_count": null,
   "id": "8078d2a5",
   "metadata": {},
   "outputs": [],
   "source": []
  }
 ],
 "metadata": {
  "kernelspec": {
   "display_name": "Python 3",
   "language": "python",
   "name": "python3"
  },
  "language_info": {
   "codemirror_mode": {
    "name": "ipython",
    "version": 3
   },
   "file_extension": ".py",
   "mimetype": "text/x-python",
   "name": "python",
   "nbconvert_exporter": "python",
   "pygments_lexer": "ipython3",
   "version": "3.11.8"
  }
 },
 "nbformat": 4,
 "nbformat_minor": 5
}
